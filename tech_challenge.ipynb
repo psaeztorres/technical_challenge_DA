{
 "cells": [
  {
   "cell_type": "code",
   "execution_count": 136,
   "metadata": {},
   "outputs": [],
   "source": [
    "import pandas as pd\n",
    "import numpy as np\n",
    "import seaborn as sns\n",
    "from matplotlib import pyplot as plt"
   ]
  },
  {
   "cell_type": "code",
   "execution_count": 80,
   "metadata": {},
   "outputs": [
    {
     "data": {
      "text/html": [
       "<div>\n",
       "<style scoped>\n",
       "    .dataframe tbody tr th:only-of-type {\n",
       "        vertical-align: middle;\n",
       "    }\n",
       "\n",
       "    .dataframe tbody tr th {\n",
       "        vertical-align: top;\n",
       "    }\n",
       "\n",
       "    .dataframe thead th {\n",
       "        text-align: right;\n",
       "    }\n",
       "</style>\n",
       "<table border=\"1\" class=\"dataframe\">\n",
       "  <thead>\n",
       "    <tr style=\"text-align: right;\">\n",
       "      <th></th>\n",
       "      <th>distance</th>\n",
       "      <th>consume</th>\n",
       "      <th>speed</th>\n",
       "      <th>temp_inside</th>\n",
       "      <th>temp_outside</th>\n",
       "      <th>specials</th>\n",
       "      <th>gas_type</th>\n",
       "      <th>AC</th>\n",
       "      <th>rain</th>\n",
       "      <th>sun</th>\n",
       "      <th>refill liters</th>\n",
       "      <th>refill gas</th>\n",
       "    </tr>\n",
       "  </thead>\n",
       "  <tbody>\n",
       "    <tr>\n",
       "      <th>0</th>\n",
       "      <td>28</td>\n",
       "      <td>5</td>\n",
       "      <td>26</td>\n",
       "      <td>21,5</td>\n",
       "      <td>12</td>\n",
       "      <td>NaN</td>\n",
       "      <td>E10</td>\n",
       "      <td>0</td>\n",
       "      <td>0</td>\n",
       "      <td>0</td>\n",
       "      <td>45</td>\n",
       "      <td>E10</td>\n",
       "    </tr>\n",
       "    <tr>\n",
       "      <th>1</th>\n",
       "      <td>12</td>\n",
       "      <td>4,2</td>\n",
       "      <td>30</td>\n",
       "      <td>21,5</td>\n",
       "      <td>13</td>\n",
       "      <td>NaN</td>\n",
       "      <td>E10</td>\n",
       "      <td>0</td>\n",
       "      <td>0</td>\n",
       "      <td>0</td>\n",
       "      <td>NaN</td>\n",
       "      <td>NaN</td>\n",
       "    </tr>\n",
       "    <tr>\n",
       "      <th>2</th>\n",
       "      <td>11,2</td>\n",
       "      <td>5,5</td>\n",
       "      <td>38</td>\n",
       "      <td>21,5</td>\n",
       "      <td>15</td>\n",
       "      <td>NaN</td>\n",
       "      <td>E10</td>\n",
       "      <td>0</td>\n",
       "      <td>0</td>\n",
       "      <td>0</td>\n",
       "      <td>NaN</td>\n",
       "      <td>NaN</td>\n",
       "    </tr>\n",
       "    <tr>\n",
       "      <th>3</th>\n",
       "      <td>12,9</td>\n",
       "      <td>3,9</td>\n",
       "      <td>36</td>\n",
       "      <td>21,5</td>\n",
       "      <td>14</td>\n",
       "      <td>NaN</td>\n",
       "      <td>E10</td>\n",
       "      <td>0</td>\n",
       "      <td>0</td>\n",
       "      <td>0</td>\n",
       "      <td>NaN</td>\n",
       "      <td>NaN</td>\n",
       "    </tr>\n",
       "    <tr>\n",
       "      <th>4</th>\n",
       "      <td>18,5</td>\n",
       "      <td>4,5</td>\n",
       "      <td>46</td>\n",
       "      <td>21,5</td>\n",
       "      <td>15</td>\n",
       "      <td>NaN</td>\n",
       "      <td>E10</td>\n",
       "      <td>0</td>\n",
       "      <td>0</td>\n",
       "      <td>0</td>\n",
       "      <td>NaN</td>\n",
       "      <td>NaN</td>\n",
       "    </tr>\n",
       "  </tbody>\n",
       "</table>\n",
       "</div>"
      ],
      "text/plain": [
       "  distance consume  speed temp_inside  temp_outside specials gas_type  AC  \\\n",
       "0       28       5     26        21,5            12      NaN      E10   0   \n",
       "1       12     4,2     30        21,5            13      NaN      E10   0   \n",
       "2     11,2     5,5     38        21,5            15      NaN      E10   0   \n",
       "3     12,9     3,9     36        21,5            14      NaN      E10   0   \n",
       "4     18,5     4,5     46        21,5            15      NaN      E10   0   \n",
       "\n",
       "   rain  sun refill liters refill gas  \n",
       "0     0    0            45        E10  \n",
       "1     0    0           NaN        NaN  \n",
       "2     0    0           NaN        NaN  \n",
       "3     0    0           NaN        NaN  \n",
       "4     0    0           NaN        NaN  "
      ]
     },
     "execution_count": 80,
     "metadata": {},
     "output_type": "execute_result"
    }
   ],
   "source": [
    "data = pd.read_csv('data/measurements.csv')\n",
    "data.head()"
   ]
  },
  {
   "cell_type": "code",
   "execution_count": 81,
   "metadata": {},
   "outputs": [],
   "source": [
    "data2=pd.read_excel('data/measurements2.xlsx')"
   ]
  },
  {
   "cell_type": "code",
   "execution_count": 82,
   "metadata": {},
   "outputs": [
    {
     "data": {
      "text/html": [
       "<div>\n",
       "<style scoped>\n",
       "    .dataframe tbody tr th:only-of-type {\n",
       "        vertical-align: middle;\n",
       "    }\n",
       "\n",
       "    .dataframe tbody tr th {\n",
       "        vertical-align: top;\n",
       "    }\n",
       "\n",
       "    .dataframe thead th {\n",
       "        text-align: right;\n",
       "    }\n",
       "</style>\n",
       "<table border=\"1\" class=\"dataframe\">\n",
       "  <thead>\n",
       "    <tr style=\"text-align: right;\">\n",
       "      <th></th>\n",
       "      <th>distance</th>\n",
       "      <th>consume</th>\n",
       "      <th>speed</th>\n",
       "      <th>temp_inside</th>\n",
       "      <th>temp_outside</th>\n",
       "      <th>specials</th>\n",
       "      <th>gas_type</th>\n",
       "      <th>AC</th>\n",
       "      <th>rain</th>\n",
       "      <th>sun</th>\n",
       "      <th>refill liters</th>\n",
       "      <th>refill gas</th>\n",
       "    </tr>\n",
       "  </thead>\n",
       "  <tbody>\n",
       "    <tr>\n",
       "      <th>0</th>\n",
       "      <td>28.0</td>\n",
       "      <td>5.0</td>\n",
       "      <td>26</td>\n",
       "      <td>21.5</td>\n",
       "      <td>12</td>\n",
       "      <td>NaN</td>\n",
       "      <td>E10</td>\n",
       "      <td>0</td>\n",
       "      <td>0</td>\n",
       "      <td>0</td>\n",
       "      <td>45.0</td>\n",
       "      <td>E10</td>\n",
       "    </tr>\n",
       "    <tr>\n",
       "      <th>1</th>\n",
       "      <td>12.0</td>\n",
       "      <td>4.2</td>\n",
       "      <td>30</td>\n",
       "      <td>21.5</td>\n",
       "      <td>13</td>\n",
       "      <td>NaN</td>\n",
       "      <td>E10</td>\n",
       "      <td>0</td>\n",
       "      <td>0</td>\n",
       "      <td>0</td>\n",
       "      <td>NaN</td>\n",
       "      <td>NaN</td>\n",
       "    </tr>\n",
       "    <tr>\n",
       "      <th>2</th>\n",
       "      <td>11.2</td>\n",
       "      <td>5.5</td>\n",
       "      <td>38</td>\n",
       "      <td>21.5</td>\n",
       "      <td>15</td>\n",
       "      <td>NaN</td>\n",
       "      <td>E10</td>\n",
       "      <td>0</td>\n",
       "      <td>0</td>\n",
       "      <td>0</td>\n",
       "      <td>NaN</td>\n",
       "      <td>NaN</td>\n",
       "    </tr>\n",
       "    <tr>\n",
       "      <th>3</th>\n",
       "      <td>12.9</td>\n",
       "      <td>3.9</td>\n",
       "      <td>36</td>\n",
       "      <td>21.5</td>\n",
       "      <td>14</td>\n",
       "      <td>NaN</td>\n",
       "      <td>E10</td>\n",
       "      <td>0</td>\n",
       "      <td>0</td>\n",
       "      <td>0</td>\n",
       "      <td>NaN</td>\n",
       "      <td>NaN</td>\n",
       "    </tr>\n",
       "    <tr>\n",
       "      <th>4</th>\n",
       "      <td>18.5</td>\n",
       "      <td>4.5</td>\n",
       "      <td>46</td>\n",
       "      <td>21.5</td>\n",
       "      <td>15</td>\n",
       "      <td>NaN</td>\n",
       "      <td>E10</td>\n",
       "      <td>0</td>\n",
       "      <td>0</td>\n",
       "      <td>0</td>\n",
       "      <td>NaN</td>\n",
       "      <td>NaN</td>\n",
       "    </tr>\n",
       "  </tbody>\n",
       "</table>\n",
       "</div>"
      ],
      "text/plain": [
       "   distance  consume  speed  temp_inside  temp_outside specials gas_type  AC  \\\n",
       "0      28.0      5.0     26         21.5            12      NaN      E10   0   \n",
       "1      12.0      4.2     30         21.5            13      NaN      E10   0   \n",
       "2      11.2      5.5     38         21.5            15      NaN      E10   0   \n",
       "3      12.9      3.9     36         21.5            14      NaN      E10   0   \n",
       "4      18.5      4.5     46         21.5            15      NaN      E10   0   \n",
       "\n",
       "   rain  sun  refill liters refill gas  \n",
       "0     0    0           45.0        E10  \n",
       "1     0    0            NaN        NaN  \n",
       "2     0    0            NaN        NaN  \n",
       "3     0    0            NaN        NaN  \n",
       "4     0    0            NaN        NaN  "
      ]
     },
     "execution_count": 82,
     "metadata": {},
     "output_type": "execute_result"
    }
   ],
   "source": [
    "data2.head()"
   ]
  },
  {
   "cell_type": "markdown",
   "metadata": {},
   "source": [
    "we see data and data2 are the same but with different format so we just keep data for working"
   ]
  },
  {
   "cell_type": "code",
   "execution_count": 83,
   "metadata": {},
   "outputs": [
    {
     "name": "stdout",
     "output_type": "stream",
     "text": [
      "data shape = (388, 12), data2 shape = (388, 12)\n"
     ]
    }
   ],
   "source": [
    "print(f\"data shape = {data.shape}, data2 shape = {data2.shape}\")"
   ]
  },
  {
   "cell_type": "markdown",
   "metadata": {},
   "source": [
    "### DATA EXPLORATION AND TRANSFORMATION"
   ]
  },
  {
   "cell_type": "code",
   "execution_count": 84,
   "metadata": {},
   "outputs": [
    {
     "data": {
      "text/html": [
       "<div>\n",
       "<style scoped>\n",
       "    .dataframe tbody tr th:only-of-type {\n",
       "        vertical-align: middle;\n",
       "    }\n",
       "\n",
       "    .dataframe tbody tr th {\n",
       "        vertical-align: top;\n",
       "    }\n",
       "\n",
       "    .dataframe thead th {\n",
       "        text-align: right;\n",
       "    }\n",
       "</style>\n",
       "<table border=\"1\" class=\"dataframe\">\n",
       "  <thead>\n",
       "    <tr style=\"text-align: right;\">\n",
       "      <th></th>\n",
       "      <th>distance</th>\n",
       "      <th>consume</th>\n",
       "      <th>speed</th>\n",
       "      <th>temp_inside</th>\n",
       "      <th>temp_outside</th>\n",
       "      <th>specials</th>\n",
       "      <th>gas_type</th>\n",
       "      <th>AC</th>\n",
       "      <th>rain</th>\n",
       "      <th>sun</th>\n",
       "      <th>refill liters</th>\n",
       "      <th>refill gas</th>\n",
       "    </tr>\n",
       "  </thead>\n",
       "  <tbody>\n",
       "    <tr>\n",
       "      <th>307</th>\n",
       "      <td>11,9</td>\n",
       "      <td>5,3</td>\n",
       "      <td>34</td>\n",
       "      <td>22</td>\n",
       "      <td>13</td>\n",
       "      <td>NaN</td>\n",
       "      <td>SP98</td>\n",
       "      <td>0</td>\n",
       "      <td>0</td>\n",
       "      <td>0</td>\n",
       "      <td>NaN</td>\n",
       "      <td>NaN</td>\n",
       "    </tr>\n",
       "  </tbody>\n",
       "</table>\n",
       "</div>"
      ],
      "text/plain": [
       "    distance consume  speed temp_inside  temp_outside specials gas_type  AC  \\\n",
       "307     11,9     5,3     34          22            13      NaN     SP98   0   \n",
       "\n",
       "     rain  sun refill liters refill gas  \n",
       "307     0    0           NaN        NaN  "
      ]
     },
     "execution_count": 84,
     "metadata": {},
     "output_type": "execute_result"
    }
   ],
   "source": [
    "data.sample()"
   ]
  },
  {
   "cell_type": "code",
   "execution_count": 85,
   "metadata": {},
   "outputs": [
    {
     "data": {
      "text/plain": [
       "distance           0\n",
       "consume            0\n",
       "speed              0\n",
       "temp_inside       12\n",
       "temp_outside       0\n",
       "specials         295\n",
       "gas_type           0\n",
       "AC                 0\n",
       "rain               0\n",
       "sun                0\n",
       "refill liters    375\n",
       "refill gas       375\n",
       "dtype: int64"
      ]
     },
     "execution_count": 85,
     "metadata": {},
     "output_type": "execute_result"
    }
   ],
   "source": [
    "data.isna().sum()"
   ]
  },
  {
   "cell_type": "markdown",
   "metadata": {},
   "source": [
    "refill liters and refill gass are almost all NaN (375 out of 388), so, we will not be able to ge representative information from these columns. We can drop them "
   ]
  },
  {
   "cell_type": "code",
   "execution_count": 86,
   "metadata": {},
   "outputs": [],
   "source": [
    "data.drop(columns= ['refill liters' , 'refill gas'], inplace= True)"
   ]
  },
  {
   "cell_type": "code",
   "execution_count": 87,
   "metadata": {},
   "outputs": [
    {
     "data": {
      "text/plain": [
       "specials\n",
       "rain                  32\n",
       "sun                   27\n",
       "AC rain                9\n",
       "ac                     8\n",
       "AC                     6\n",
       "snow                   3\n",
       "sun ac                 3\n",
       "AC snow                1\n",
       "half rain half sun     1\n",
       "AC sun                 1\n",
       "AC Sun                 1\n",
       "ac rain                1\n",
       "Name: count, dtype: int64"
      ]
     },
     "execution_count": 87,
     "metadata": {},
     "output_type": "execute_result"
    }
   ],
   "source": [
    "data['specials'].value_counts()"
   ]
  },
  {
   "cell_type": "markdown",
   "metadata": {},
   "source": [
    "regarding the 'specials' column we see it is information regarding AC and/or rain/snow. We already have 3 columns with this info ('AC', 'rain' , 'sun') with no NaN so, we can drop this column too as it contains no relevant information"
   ]
  },
  {
   "cell_type": "code",
   "execution_count": 88,
   "metadata": {},
   "outputs": [],
   "source": [
    "data.drop(columns= 'specials', inplace= True)"
   ]
  },
  {
   "cell_type": "code",
   "execution_count": 89,
   "metadata": {},
   "outputs": [
    {
     "data": {
      "text/plain": [
       "distance        object\n",
       "consume         object\n",
       "speed            int64\n",
       "temp_inside     object\n",
       "temp_outside     int64\n",
       "gas_type        object\n",
       "AC               int64\n",
       "rain             int64\n",
       "sun              int64\n",
       "dtype: object"
      ]
     },
     "execution_count": 89,
     "metadata": {},
     "output_type": "execute_result"
    }
   ],
   "source": [
    "data.dtypes"
   ]
  },
  {
   "cell_type": "markdown",
   "metadata": {},
   "source": [
    "distance, consume, temp_inside are objects so we must turn them into numbers to be able to work with this data."
   ]
  },
  {
   "cell_type": "code",
   "execution_count": 90,
   "metadata": {},
   "outputs": [],
   "source": [
    "data['distance'] = data['distance'].apply(lambda x: float(x.replace(',','.')))"
   ]
  },
  {
   "cell_type": "code",
   "execution_count": 91,
   "metadata": {},
   "outputs": [],
   "source": [
    "data['consume'] = data['consume'].apply(lambda x: float(x.replace(',','.')))"
   ]
  },
  {
   "cell_type": "code",
   "execution_count": 97,
   "metadata": {},
   "outputs": [],
   "source": [
    "data['temp_inside'] = data['temp_inside'].apply(lambda x: float(x.replace(',','.')) if type(x) == str else x)"
   ]
  },
  {
   "cell_type": "code",
   "execution_count": 99,
   "metadata": {},
   "outputs": [
    {
     "data": {
      "text/plain": [
       "distance        float64\n",
       "consume         float64\n",
       "speed             int64\n",
       "temp_inside     float64\n",
       "temp_outside      int64\n",
       "gas_type         object\n",
       "AC                int64\n",
       "rain              int64\n",
       "sun               int64\n",
       "dtype: object"
      ]
     },
     "execution_count": 99,
     "metadata": {},
     "output_type": "execute_result"
    }
   ],
   "source": [
    "data.dtypes"
   ]
  },
  {
   "cell_type": "code",
   "execution_count": 100,
   "metadata": {},
   "outputs": [
    {
     "data": {
      "text/html": [
       "<div>\n",
       "<style scoped>\n",
       "    .dataframe tbody tr th:only-of-type {\n",
       "        vertical-align: middle;\n",
       "    }\n",
       "\n",
       "    .dataframe tbody tr th {\n",
       "        vertical-align: top;\n",
       "    }\n",
       "\n",
       "    .dataframe thead th {\n",
       "        text-align: right;\n",
       "    }\n",
       "</style>\n",
       "<table border=\"1\" class=\"dataframe\">\n",
       "  <thead>\n",
       "    <tr style=\"text-align: right;\">\n",
       "      <th></th>\n",
       "      <th>distance</th>\n",
       "      <th>consume</th>\n",
       "      <th>speed</th>\n",
       "      <th>temp_inside</th>\n",
       "      <th>temp_outside</th>\n",
       "      <th>gas_type</th>\n",
       "      <th>AC</th>\n",
       "      <th>rain</th>\n",
       "      <th>sun</th>\n",
       "    </tr>\n",
       "  </thead>\n",
       "  <tbody>\n",
       "    <tr>\n",
       "      <th>0</th>\n",
       "      <td>28.0</td>\n",
       "      <td>5.0</td>\n",
       "      <td>26</td>\n",
       "      <td>21.5</td>\n",
       "      <td>12</td>\n",
       "      <td>E10</td>\n",
       "      <td>0</td>\n",
       "      <td>0</td>\n",
       "      <td>0</td>\n",
       "    </tr>\n",
       "    <tr>\n",
       "      <th>1</th>\n",
       "      <td>12.0</td>\n",
       "      <td>4.2</td>\n",
       "      <td>30</td>\n",
       "      <td>21.5</td>\n",
       "      <td>13</td>\n",
       "      <td>E10</td>\n",
       "      <td>0</td>\n",
       "      <td>0</td>\n",
       "      <td>0</td>\n",
       "    </tr>\n",
       "    <tr>\n",
       "      <th>2</th>\n",
       "      <td>11.2</td>\n",
       "      <td>5.5</td>\n",
       "      <td>38</td>\n",
       "      <td>21.5</td>\n",
       "      <td>15</td>\n",
       "      <td>E10</td>\n",
       "      <td>0</td>\n",
       "      <td>0</td>\n",
       "      <td>0</td>\n",
       "    </tr>\n",
       "    <tr>\n",
       "      <th>3</th>\n",
       "      <td>12.9</td>\n",
       "      <td>3.9</td>\n",
       "      <td>36</td>\n",
       "      <td>21.5</td>\n",
       "      <td>14</td>\n",
       "      <td>E10</td>\n",
       "      <td>0</td>\n",
       "      <td>0</td>\n",
       "      <td>0</td>\n",
       "    </tr>\n",
       "    <tr>\n",
       "      <th>4</th>\n",
       "      <td>18.5</td>\n",
       "      <td>4.5</td>\n",
       "      <td>46</td>\n",
       "      <td>21.5</td>\n",
       "      <td>15</td>\n",
       "      <td>E10</td>\n",
       "      <td>0</td>\n",
       "      <td>0</td>\n",
       "      <td>0</td>\n",
       "    </tr>\n",
       "  </tbody>\n",
       "</table>\n",
       "</div>"
      ],
      "text/plain": [
       "   distance  consume  speed  temp_inside  temp_outside gas_type  AC  rain  sun\n",
       "0      28.0      5.0     26         21.5            12      E10   0     0    0\n",
       "1      12.0      4.2     30         21.5            13      E10   0     0    0\n",
       "2      11.2      5.5     38         21.5            15      E10   0     0    0\n",
       "3      12.9      3.9     36         21.5            14      E10   0     0    0\n",
       "4      18.5      4.5     46         21.5            15      E10   0     0    0"
      ]
     },
     "execution_count": 100,
     "metadata": {},
     "output_type": "execute_result"
    }
   ],
   "source": [
    "# this is how our dataframe is looking now:\n",
    "data.head()"
   ]
  },
  {
   "cell_type": "markdown",
   "metadata": {},
   "source": [
    "### DATA VISUALIZATION"
   ]
  },
  {
   "cell_type": "markdown",
   "metadata": {},
   "source": [
    "let's see how many data we have for each fuel:"
   ]
  },
  {
   "cell_type": "code",
   "execution_count": 154,
   "metadata": {},
   "outputs": [
    {
     "data": {
      "text/plain": [
       "gas_type\n",
       "SP98    228\n",
       "E10     160\n",
       "Name: count, dtype: int64"
      ]
     },
     "execution_count": 154,
     "metadata": {},
     "output_type": "execute_result"
    }
   ],
   "source": [
    "data['gas_type'].value_counts()"
   ]
  },
  {
   "cell_type": "code",
   "execution_count": 153,
   "metadata": {},
   "outputs": [
    {
     "data": {
      "text/plain": [
       "<Axes: ylabel='consume'>"
      ]
     },
     "execution_count": 153,
     "metadata": {},
     "output_type": "execute_result"
    },
    {
     "data": {
      "image/png": "[encoded data removed]",
      "text/plain": [
       "<Figure size 640x480 with 1 Axes>"
      ]
     },
     "metadata": {},
     "output_type": "display_data"
    }
   ],
   "source": [
    "sns.boxplot(data = data, y ='consume', hue = 'gas_type')"
   ]
  },
  {
   "cell_type": "markdown",
   "metadata": {},
   "source": [
    "there are some very high values but they do not seem to be correlated with the fuel type. It is important to remove outliers to be able to get good predictions/conclusions."
   ]
  },
  {
   "cell_type": "code",
   "execution_count": 159,
   "metadata": {},
   "outputs": [],
   "source": [
    "def remove_outliers(df, column):\n",
    "    ''' removes rows containing outliers from a dataframe based on a column values\n",
    "    agrgs:\n",
    "    df (DataFrame) : the imput dataframe\n",
    "    column (str) : name of the column containing the outliers\n",
    "\n",
    "    returns: the dataframe with outliers removed\n",
    "    '''\n",
    "    q1= df['consume'].quantile(0.25)\n",
    "    q2 = df['consume'].quantile(0.5)\n",
    "    q3 = df['consume'].quantile(0.75)\n",
    "    int_quantiles = q3-q1\n",
    "    max = q3+1.5*int_quantiles\n",
    "    min = q1-1.5*int_quantiles\n",
    "    df.drop(df[(df[column] > max)|(df[column] < min)].index, inplace = True)\n",
    "    return df\n",
    "\n"
   ]
  },
  {
   "cell_type": "code",
   "execution_count": 160,
   "metadata": {},
   "outputs": [
    {
     "data": {
      "text/html": [
       "<div>\n",
       "<style scoped>\n",
       "    .dataframe tbody tr th:only-of-type {\n",
       "        vertical-align: middle;\n",
       "    }\n",
       "\n",
       "    .dataframe tbody tr th {\n",
       "        vertical-align: top;\n",
       "    }\n",
       "\n",
       "    .dataframe thead th {\n",
       "        text-align: right;\n",
       "    }\n",
       "</style>\n",
       "<table border=\"1\" class=\"dataframe\">\n",
       "  <thead>\n",
       "    <tr style=\"text-align: right;\">\n",
       "      <th></th>\n",
       "      <th>distance</th>\n",
       "      <th>consume</th>\n",
       "      <th>speed</th>\n",
       "      <th>temp_inside</th>\n",
       "      <th>temp_outside</th>\n",
       "      <th>gas_type</th>\n",
       "      <th>AC</th>\n",
       "      <th>rain</th>\n",
       "      <th>sun</th>\n",
       "    </tr>\n",
       "  </thead>\n",
       "  <tbody>\n",
       "    <tr>\n",
       "      <th>0</th>\n",
       "      <td>28.0</td>\n",
       "      <td>5.0</td>\n",
       "      <td>26</td>\n",
       "      <td>21.5</td>\n",
       "      <td>12</td>\n",
       "      <td>E10</td>\n",
       "      <td>0</td>\n",
       "      <td>0</td>\n",
       "      <td>0</td>\n",
       "    </tr>\n",
       "    <tr>\n",
       "      <th>1</th>\n",
       "      <td>12.0</td>\n",
       "      <td>4.2</td>\n",
       "      <td>30</td>\n",
       "      <td>21.5</td>\n",
       "      <td>13</td>\n",
       "      <td>E10</td>\n",
       "      <td>0</td>\n",
       "      <td>0</td>\n",
       "      <td>0</td>\n",
       "    </tr>\n",
       "    <tr>\n",
       "      <th>2</th>\n",
       "      <td>11.2</td>\n",
       "      <td>5.5</td>\n",
       "      <td>38</td>\n",
       "      <td>21.5</td>\n",
       "      <td>15</td>\n",
       "      <td>E10</td>\n",
       "      <td>0</td>\n",
       "      <td>0</td>\n",
       "      <td>0</td>\n",
       "    </tr>\n",
       "    <tr>\n",
       "      <th>3</th>\n",
       "      <td>12.9</td>\n",
       "      <td>3.9</td>\n",
       "      <td>36</td>\n",
       "      <td>21.5</td>\n",
       "      <td>14</td>\n",
       "      <td>E10</td>\n",
       "      <td>0</td>\n",
       "      <td>0</td>\n",
       "      <td>0</td>\n",
       "    </tr>\n",
       "    <tr>\n",
       "      <th>4</th>\n",
       "      <td>18.5</td>\n",
       "      <td>4.5</td>\n",
       "      <td>46</td>\n",
       "      <td>21.5</td>\n",
       "      <td>15</td>\n",
       "      <td>E10</td>\n",
       "      <td>0</td>\n",
       "      <td>0</td>\n",
       "      <td>0</td>\n",
       "    </tr>\n",
       "    <tr>\n",
       "      <th>...</th>\n",
       "      <td>...</td>\n",
       "      <td>...</td>\n",
       "      <td>...</td>\n",
       "      <td>...</td>\n",
       "      <td>...</td>\n",
       "      <td>...</td>\n",
       "      <td>...</td>\n",
       "      <td>...</td>\n",
       "      <td>...</td>\n",
       "    </tr>\n",
       "    <tr>\n",
       "      <th>383</th>\n",
       "      <td>16.0</td>\n",
       "      <td>3.7</td>\n",
       "      <td>39</td>\n",
       "      <td>24.5</td>\n",
       "      <td>18</td>\n",
       "      <td>SP98</td>\n",
       "      <td>0</td>\n",
       "      <td>0</td>\n",
       "      <td>0</td>\n",
       "    </tr>\n",
       "    <tr>\n",
       "      <th>384</th>\n",
       "      <td>16.1</td>\n",
       "      <td>4.3</td>\n",
       "      <td>38</td>\n",
       "      <td>25.0</td>\n",
       "      <td>31</td>\n",
       "      <td>SP98</td>\n",
       "      <td>1</td>\n",
       "      <td>0</td>\n",
       "      <td>0</td>\n",
       "    </tr>\n",
       "    <tr>\n",
       "      <th>385</th>\n",
       "      <td>16.0</td>\n",
       "      <td>3.8</td>\n",
       "      <td>45</td>\n",
       "      <td>25.0</td>\n",
       "      <td>19</td>\n",
       "      <td>SP98</td>\n",
       "      <td>0</td>\n",
       "      <td>0</td>\n",
       "      <td>0</td>\n",
       "    </tr>\n",
       "    <tr>\n",
       "      <th>386</th>\n",
       "      <td>15.4</td>\n",
       "      <td>4.6</td>\n",
       "      <td>42</td>\n",
       "      <td>25.0</td>\n",
       "      <td>31</td>\n",
       "      <td>SP98</td>\n",
       "      <td>1</td>\n",
       "      <td>0</td>\n",
       "      <td>0</td>\n",
       "    </tr>\n",
       "    <tr>\n",
       "      <th>387</th>\n",
       "      <td>14.7</td>\n",
       "      <td>5.0</td>\n",
       "      <td>25</td>\n",
       "      <td>25.0</td>\n",
       "      <td>30</td>\n",
       "      <td>SP98</td>\n",
       "      <td>1</td>\n",
       "      <td>0</td>\n",
       "      <td>0</td>\n",
       "    </tr>\n",
       "  </tbody>\n",
       "</table>\n",
       "<p>375 rows × 9 columns</p>\n",
       "</div>"
      ],
      "text/plain": [
       "     distance  consume  speed  temp_inside  temp_outside gas_type  AC  rain  \\\n",
       "0        28.0      5.0     26         21.5            12      E10   0     0   \n",
       "1        12.0      4.2     30         21.5            13      E10   0     0   \n",
       "2        11.2      5.5     38         21.5            15      E10   0     0   \n",
       "3        12.9      3.9     36         21.5            14      E10   0     0   \n",
       "4        18.5      4.5     46         21.5            15      E10   0     0   \n",
       "..        ...      ...    ...          ...           ...      ...  ..   ...   \n",
       "383      16.0      3.7     39         24.5            18     SP98   0     0   \n",
       "384      16.1      4.3     38         25.0            31     SP98   1     0   \n",
       "385      16.0      3.8     45         25.0            19     SP98   0     0   \n",
       "386      15.4      4.6     42         25.0            31     SP98   1     0   \n",
       "387      14.7      5.0     25         25.0            30     SP98   1     0   \n",
       "\n",
       "     sun  \n",
       "0      0  \n",
       "1      0  \n",
       "2      0  \n",
       "3      0  \n",
       "4      0  \n",
       "..   ...  \n",
       "383    0  \n",
       "384    0  \n",
       "385    0  \n",
       "386    0  \n",
       "387    0  \n",
       "\n",
       "[375 rows x 9 columns]"
      ]
     },
     "execution_count": 160,
     "metadata": {},
     "output_type": "execute_result"
    }
   ],
   "source": [
    "remove_outliers(data,'consume')"
   ]
  },
  {
   "cell_type": "code",
   "execution_count": null,
   "metadata": {},
   "outputs": [],
   "source": []
  },
  {
   "cell_type": "code",
   "execution_count": null,
   "metadata": {},
   "outputs": [],
   "source": []
  }
 ],
 "metadata": {
  "kernelspec": {
   "display_name": "ironhack",
   "language": "python",
   "name": "python3"
  },
  "language_info": {
   "codemirror_mode": {
    "name": "ipython",
    "version": 3
   },
   "file_extension": ".py",
   "mimetype": "text/x-python",
   "name": "python",
   "nbconvert_exporter": "python",
   "pygments_lexer": "ipython3",
   "version": "3.11.5"
  }
 },
 "nbformat": 4,
 "nbformat_minor": 2
}
